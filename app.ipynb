{
 "cells": [
  {
   "cell_type": "code",
   "execution_count": 13,
   "metadata": {},
   "outputs": [
    {
     "name": "stdout",
     "output_type": "stream",
     "text": [
      "Requirement already satisfied: dash==1.8.0 in c:\\users\\priya\\anaconda3.7\\lib\\site-packages (1.8.0)\n",
      "Requirement already satisfied: flask-compress in c:\\users\\priya\\anaconda3.7\\lib\\site-packages (from dash==1.8.0) (1.5.0)\n",
      "Requirement already satisfied: dash-core-components==1.7.0 in c:\\users\\priya\\anaconda3.7\\lib\\site-packages (from dash==1.8.0) (1.7.0)\n",
      "Requirement already satisfied: dash-html-components==1.0.2 in c:\\users\\priya\\anaconda3.7\\lib\\site-packages (from dash==1.8.0) (1.0.2)\n",
      "Requirement already satisfied: dash-table==4.6.0 in c:\\users\\priya\\anaconda3.7\\lib\\site-packages (from dash==1.8.0) (4.6.0)\n",
      "Requirement already satisfied: future in c:\\users\\priya\\anaconda3.7\\lib\\site-packages (from dash==1.8.0) (0.18.2)\n",
      "Requirement already satisfied: plotly in c:\\users\\priya\\anaconda3.7\\lib\\site-packages (from dash==1.8.0) (4.8.2)\n",
      "Requirement already satisfied: dash-renderer==1.2.3 in c:\\users\\priya\\anaconda3.7\\lib\\site-packages (from dash==1.8.0) (1.2.3)\n",
      "Requirement already satisfied: Flask>=1.0.2 in c:\\users\\priya\\anaconda3.7\\lib\\site-packages (from dash==1.8.0) (1.1.1)\n",
      "Requirement already satisfied: brotli in c:\\users\\priya\\anaconda3.7\\lib\\site-packages (from flask-compress->dash==1.8.0) (1.0.7)\n",
      "Requirement already satisfied: retrying>=1.3.3 in c:\\users\\priya\\anaconda3.7\\lib\\site-packages (from plotly->dash==1.8.0) (1.3.3)\n",
      "Requirement already satisfied: six in c:\\users\\priya\\anaconda3.7\\lib\\site-packages (from plotly->dash==1.8.0) (1.14.0)\n",
      "Requirement already satisfied: Jinja2>=2.10.1 in c:\\users\\priya\\anaconda3.7\\lib\\site-packages (from Flask>=1.0.2->dash==1.8.0) (2.11.1)\n",
      "Requirement already satisfied: itsdangerous>=0.24 in c:\\users\\priya\\anaconda3.7\\lib\\site-packages (from Flask>=1.0.2->dash==1.8.0) (1.1.0)\n",
      "Requirement already satisfied: click>=5.1 in c:\\users\\priya\\anaconda3.7\\lib\\site-packages (from Flask>=1.0.2->dash==1.8.0) (7.0)\n",
      "Requirement already satisfied: Werkzeug>=0.15 in c:\\users\\priya\\anaconda3.7\\lib\\site-packages (from Flask>=1.0.2->dash==1.8.0) (1.0.0)\n",
      "Requirement already satisfied: MarkupSafe>=0.23 in c:\\users\\priya\\anaconda3.7\\lib\\site-packages (from Jinja2>=2.10.1->Flask>=1.0.2->dash==1.8.0) (1.1.1)\n",
      "Note: you may need to restart the kernel to use updated packages.\n"
     ]
    }
   ],
   "source": [
    "pip install dash==1.8.0"
   ]
  },
  {
   "cell_type": "code",
   "execution_count": 14,
   "metadata": {},
   "outputs": [
    {
     "name": "stdout",
     "output_type": "stream",
     "text": [
      "Requirement already satisfied: tensorflow==2.1.0 in c:\\users\\priya\\anaconda3.7\\lib\\site-packages (2.1.0)\n",
      "Requirement already satisfied: keras-applications>=1.0.8 in c:\\users\\priya\\anaconda3.7\\lib\\site-packages (from tensorflow==2.1.0) (1.0.8)\n",
      "Requirement already satisfied: six>=1.12.0 in c:\\users\\priya\\anaconda3.7\\lib\\site-packages (from tensorflow==2.1.0) (1.14.0)\n",
      "Requirement already satisfied: keras-preprocessing>=1.1.0 in c:\\users\\priya\\anaconda3.7\\lib\\site-packages (from tensorflow==2.1.0) (1.1.0)\n",
      "Requirement already satisfied: gast==0.2.2 in c:\\users\\priya\\anaconda3.7\\lib\\site-packages (from tensorflow==2.1.0) (0.2.2)\n",
      "Requirement already satisfied: astor>=0.6.0 in c:\\users\\priya\\anaconda3.7\\lib\\site-packages (from tensorflow==2.1.0) (0.8.1)\n",
      "Requirement already satisfied: termcolor>=1.1.0 in c:\\users\\priya\\anaconda3.7\\lib\\site-packages (from tensorflow==2.1.0) (1.1.0)\n",
      "Requirement already satisfied: grpcio>=1.8.6 in c:\\users\\priya\\anaconda3.7\\lib\\site-packages (from tensorflow==2.1.0) (1.28.1)\n",
      "Requirement already satisfied: wheel>=0.26; python_version >= \"3\" in c:\\users\\priya\\anaconda3.7\\lib\\site-packages (from tensorflow==2.1.0) (0.34.2)\n",
      "Requirement already satisfied: numpy<2.0,>=1.16.0 in c:\\users\\priya\\anaconda3.7\\lib\\site-packages (from tensorflow==2.1.0) (1.18.1)\n",
      "Requirement already satisfied: protobuf>=3.8.0 in c:\\users\\priya\\anaconda3.7\\lib\\site-packages (from tensorflow==2.1.0) (3.11.3)\n",
      "Requirement already satisfied: wrapt>=1.11.1 in c:\\users\\priya\\anaconda3.7\\lib\\site-packages (from tensorflow==2.1.0) (1.11.2)\n",
      "Requirement already satisfied: scipy==1.4.1; python_version >= \"3\" in c:\\users\\priya\\anaconda3.7\\lib\\site-packages (from tensorflow==2.1.0) (1.4.1)\n",
      "Requirement already satisfied: absl-py>=0.7.0 in c:\\users\\priya\\anaconda3.7\\lib\\site-packages (from tensorflow==2.1.0) (0.9.0)\n",
      "Requirement already satisfied: opt-einsum>=2.3.2 in c:\\users\\priya\\anaconda3.7\\lib\\site-packages (from tensorflow==2.1.0) (3.2.1)\n",
      "Requirement already satisfied: tensorboard<2.2.0,>=2.1.0 in c:\\users\\priya\\anaconda3.7\\lib\\site-packages (from tensorflow==2.1.0) (2.1.1)\n",
      "Requirement already satisfied: tensorflow-estimator<2.2.0,>=2.1.0rc0 in c:\\users\\priya\\anaconda3.7\\lib\\site-packages (from tensorflow==2.1.0) (2.1.0)\n",
      "Requirement already satisfied: google-pasta>=0.1.6 in c:\\users\\priya\\anaconda3.7\\lib\\site-packages (from tensorflow==2.1.0) (0.2.0)\n",
      "Requirement already satisfied: h5py in c:\\users\\priya\\anaconda3.7\\lib\\site-packages (from keras-applications>=1.0.8->tensorflow==2.1.0) (2.10.0)\n",
      "Requirement already satisfied: setuptools in c:\\users\\priya\\anaconda3.7\\lib\\site-packages (from protobuf>=3.8.0->tensorflow==2.1.0) (45.2.0.post20200210)\n",
      "Requirement already satisfied: google-auth-oauthlib<0.5,>=0.4.1 in c:\\users\\priya\\anaconda3.7\\lib\\site-packages (from tensorboard<2.2.0,>=2.1.0->tensorflow==2.1.0) (0.4.1)\n",
      "Requirement already satisfied: markdown>=2.6.8 in c:\\users\\priya\\anaconda3.7\\lib\\site-packages (from tensorboard<2.2.0,>=2.1.0->tensorflow==2.1.0) (3.2.1)\n",
      "Requirement already satisfied: google-auth<2,>=1.6.3 in c:\\users\\priya\\anaconda3.7\\lib\\site-packages (from tensorboard<2.2.0,>=2.1.0->tensorflow==2.1.0) (1.14.0)\n",
      "Requirement already satisfied: requests<3,>=2.21.0 in c:\\users\\priya\\anaconda3.7\\lib\\site-packages (from tensorboard<2.2.0,>=2.1.0->tensorflow==2.1.0) (2.22.0)\n",
      "Requirement already satisfied: werkzeug>=0.11.15 in c:\\users\\priya\\anaconda3.7\\lib\\site-packages (from tensorboard<2.2.0,>=2.1.0->tensorflow==2.1.0) (1.0.0)\n",
      "Requirement already satisfied: requests-oauthlib>=0.7.0 in c:\\users\\priya\\anaconda3.7\\lib\\site-packages (from google-auth-oauthlib<0.5,>=0.4.1->tensorboard<2.2.0,>=2.1.0->tensorflow==2.1.0) (1.3.0)\n",
      "Requirement already satisfied: rsa<4.1,>=3.1.4 in c:\\users\\priya\\anaconda3.7\\lib\\site-packages (from google-auth<2,>=1.6.3->tensorboard<2.2.0,>=2.1.0->tensorflow==2.1.0) (4.0)\n",
      "Requirement already satisfied: pyasn1-modules>=0.2.1 in c:\\users\\priya\\anaconda3.7\\lib\\site-packages (from google-auth<2,>=1.6.3->tensorboard<2.2.0,>=2.1.0->tensorflow==2.1.0) (0.2.8)\n",
      "Requirement already satisfied: cachetools<5.0,>=2.0.0 in c:\\users\\priya\\anaconda3.7\\lib\\site-packages (from google-auth<2,>=1.6.3->tensorboard<2.2.0,>=2.1.0->tensorflow==2.1.0) (4.1.0)\n",
      "Requirement already satisfied: urllib3!=1.25.0,!=1.25.1,<1.26,>=1.21.1 in c:\\users\\priya\\anaconda3.7\\lib\\site-packages (from requests<3,>=2.21.0->tensorboard<2.2.0,>=2.1.0->tensorflow==2.1.0) (1.25.8)\n",
      "Requirement already satisfied: certifi>=2017.4.17 in c:\\users\\priya\\anaconda3.7\\lib\\site-packages (from requests<3,>=2.21.0->tensorboard<2.2.0,>=2.1.0->tensorflow==2.1.0) (2019.11.28)\n",
      "Requirement already satisfied: chardet<3.1.0,>=3.0.2 in c:\\users\\priya\\anaconda3.7\\lib\\site-packages (from requests<3,>=2.21.0->tensorboard<2.2.0,>=2.1.0->tensorflow==2.1.0) (3.0.4)\n",
      "Requirement already satisfied: idna<2.9,>=2.5 in c:\\users\\priya\\anaconda3.7\\lib\\site-packages (from requests<3,>=2.21.0->tensorboard<2.2.0,>=2.1.0->tensorflow==2.1.0) (2.8)\n",
      "Requirement already satisfied: oauthlib>=3.0.0 in c:\\users\\priya\\anaconda3.7\\lib\\site-packages (from requests-oauthlib>=0.7.0->google-auth-oauthlib<0.5,>=0.4.1->tensorboard<2.2.0,>=2.1.0->tensorflow==2.1.0) (3.1.0)\n",
      "Requirement already satisfied: pyasn1>=0.1.3 in c:\\users\\priya\\anaconda3.7\\lib\\site-packages (from rsa<4.1,>=3.1.4->google-auth<2,>=1.6.3->tensorboard<2.2.0,>=2.1.0->tensorflow==2.1.0) (0.4.8)\n",
      "Note: you may need to restart the kernel to use updated packages.\n"
     ]
    }
   ],
   "source": [
    "pip install tensorflow==2.1.0"
   ]
  },
  {
   "cell_type": "code",
   "execution_count": 15,
   "metadata": {},
   "outputs": [
    {
     "name": "stdout",
     "output_type": "stream",
     "text": [
      "Requirement already satisfied: keras==2.3.1 in c:\\users\\priya\\anaconda3.7\\lib\\site-packages (2.3.1)\n",
      "Requirement already satisfied: h5py in c:\\users\\priya\\anaconda3.7\\lib\\site-packages (from keras==2.3.1) (2.10.0)\n",
      "Requirement already satisfied: scipy>=0.14 in c:\\users\\priya\\anaconda3.7\\lib\\site-packages (from keras==2.3.1) (1.4.1)\n",
      "Requirement already satisfied: keras-preprocessing>=1.0.5 in c:\\users\\priya\\anaconda3.7\\lib\\site-packages (from keras==2.3.1) (1.1.0)\n",
      "Requirement already satisfied: keras-applications>=1.0.6 in c:\\users\\priya\\anaconda3.7\\lib\\site-packages (from keras==2.3.1) (1.0.8)\n",
      "Requirement already satisfied: numpy>=1.9.1 in c:\\users\\priya\\anaconda3.7\\lib\\site-packages (from keras==2.3.1) (1.18.1)\n",
      "Requirement already satisfied: pyyaml in c:\\users\\priya\\anaconda3.7\\lib\\site-packages (from keras==2.3.1) (5.3)\n",
      "Requirement already satisfied: six>=1.9.0 in c:\\users\\priya\\anaconda3.7\\lib\\site-packages (from keras==2.3.1) (1.14.0)\n",
      "Note: you may need to restart the kernel to use updated packages.\n"
     ]
    }
   ],
   "source": [
    "pip install keras==2.3.1"
   ]
  },
  {
   "cell_type": "code",
   "execution_count": 16,
   "metadata": {},
   "outputs": [],
   "source": [
    "import base64\n",
    "import os\n",
    "from urllib.parse import quote as urlquote\n",
    "from flask import Flask, send_from_directory\n",
    "import dash\n",
    "import dash_core_components as dcc\n",
    "import dash_html_components as html\n",
    "import pandas as pd\n",
    "from pathlib import Path\n",
    "from dash.dependencies import Input, Output, State\n",
    "from PIL import Image\n",
    "import numpy as np\n",
    "import glob\n",
    "from skimage import transform\n",
    "import keras.preprocessing.image as image\n",
    "from tensorflow.keras.models import load_model\n",
    "import cv2"
   ]
  },
  {
   "cell_type": "code",
   "execution_count": 18,
   "metadata": {},
   "outputs": [
    {
     "ename": "NameError",
     "evalue": "name 'keras' is not defined",
     "output_type": "error",
     "traceback": [
      "\u001b[1;31m---------------------------------------------------------------------------\u001b[0m",
      "\u001b[1;31mNameError\u001b[0m                                 Traceback (most recent call last)",
      "\u001b[1;32m<ipython-input-18-bcc1a3ef1fca>\u001b[0m in \u001b[0;36m<module>\u001b[1;34m\u001b[0m\n\u001b[1;32m----> 1\u001b[1;33m \u001b[0mprint\u001b[0m\u001b[1;33m(\u001b[0m\u001b[0mkeras\u001b[0m\u001b[1;33m.\u001b[0m\u001b[0m__version__\u001b[0m\u001b[1;33m)\u001b[0m\u001b[1;33m\u001b[0m\u001b[1;33m\u001b[0m\u001b[0m\n\u001b[0m",
      "\u001b[1;31mNameError\u001b[0m: name 'keras' is not defined"
     ]
    }
   ],
   "source": [
    "print(keras.__version__)"
   ]
  },
  {
   "cell_type": "code",
   "execution_count": 19,
   "metadata": {},
   "outputs": [],
   "source": [
    "image_directory = 'aptos2019-blindness-detection/test_images'\n",
    "list_of_images = [ os.path.basename(x) for x in glob.glob(( os.path.join(image_directory, '*.png') ))]\n",
    "static_image_route = 'data:image/png;base64,'"
   ]
  },
  {
   "cell_type": "code",
   "execution_count": 33,
   "metadata": {},
   "outputs": [],
   "source": [
    "app = dash.Dash(\n",
    "    __name__, \n",
    "    #external_stylesheets=external_stylesheets,\n",
    "    meta_tags=[{\"name\": \"viewport\", \"content\": \"width=device-width, initial-scale=1\"}]\n",
    "    )\n",
    "colors = {\n",
    "    'background': '#111111',\n",
    "    'text': '#7FDBFF'\n",
    "}\n",
    "\n",
    "\n",
    "app.layout = html.Div(\n",
    "    [\n",
    "        \n",
    "    html.Div(\n",
    "        [\n",
    "        html.Div(\n",
    "            [\n",
    "                html.Div(\n",
    "                    [\n",
    "                        html.H1(\n",
    "                            \"Blindness Detection using Deep Learning\",\n",
    "                            className=\"uppercase title\",\n",
    "                        ),\n",
    "                        html.Span(\n",
    "                            \"Image classifier using dense neural nets\", style={'padding': '10px'}\n",
    "                        ),\n",
    "                        html.Br(),                        \n",
    "                        html.Span(\n",
    "                            \" The following are the five classes base on severity of blindness\", style={'padding': '10px'}\n",
    "                        ),\n",
    "                        html.Br(),                        \n",
    "                        html.Span(\n",
    "                            \" \", style={'padding': '10px'}\n",
    "                        ),  \n",
    "                        html.Br(),                     \n",
    "                        html.Span(\"1. No Diabetic retinopathy   \", style={'color': '#4ce80e'} ),\n",
    "                        html.Span(\"2. Mild   \",      style={'color': '#83db1f'} ),\n",
    "                        html.Span(\"3. Moderate   \",       style={'color': '#ebcd0e'} ),\n",
    "                        html.Span(\"4. Severe   \",      style={'color': '#db3a2c'} ),\n",
    "                        html.Span(\"5. Proliferative Diabetic retinopathy   \", style={'color': '#e01b1b'} ),\n",
    "                        html.Br(),  \n",
    "                    ], style = {'background':'#ffffff'}\n",
    "                ),\n",
    "            ],\n",
    "        className=\"app__header\",\n",
    "    ),\n",
    "        \n",
    "            html.Div( children = [\n",
    "                dcc.Dropdown(\n",
    "                    id='image-dropdown',\n",
    "                    options=[{'label': i, 'value': i} for i in list_of_images],\n",
    "                    value=  list_of_images[0]\n",
    "                ),\n",
    "            html.Div([dcc.Store(id='intermediate-value')], style={'display': 'none'}),\n",
    "            html.Div(\n",
    "                [   html.H3(\"Original Image\"),\n",
    "                    html.Img(id='image',style={'display': 'inline-block','height':'20%', 'width':'20%'})]\n",
    "                , className=\"six columns\"),\n",
    "            html.Div(\n",
    "                [   html.H3(\"Preprocessed Image\"),\n",
    "                    html.Img(id='image_2',style={'display': 'inline-block','height':'20%', 'width':'20%'})]\n",
    "                , className=\"six columns\"),\n",
    "            html.Div(\n",
    "                [ html.H3(\"Predicted Class\"),\n",
    "                      html.P(id=\"predicted-class\")]\n",
    "            )\n",
    "            ]    \n",
    "            , className=\"row\"),   \n",
    "        ], className=\"app__container\",\n",
    "    )\n",
    "    ],style = {'background':'#ffffff'}\n",
    ")"
   ]
  },
  {
   "cell_type": "code",
   "execution_count": 30,
   "metadata": {},
   "outputs": [],
   "source": [
    "\n",
    "def load(filename):\n",
    "    image_path = image_directory + '/' + filename\n",
    "    np_image = Image.open(image_path)\n",
    "    np_image = np.array(np_image).astype('float32')/255\n",
    "    np_image = transform.resize(np_image, (512, 512, 3))\n",
    "    np_image = image.img_to_array(np_image)\n",
    "    np_image = np.expand_dims(np_image, axis=0)\n",
    "    predict = model.predict(np_image)\n",
    "    result_class = [\"No Diabetic retinopathy\",\"Mild\",\"Moderate\",\"Severe\",\"Proliferative Diabetic retinopathy\"]\n",
    "    result1 = result_class[np.argmax(predict,axis=1)[0]]\n",
    "    return result1\n",
    "\n"
   ]
  },
  {
   "cell_type": "code",
   "execution_count": 31,
   "metadata": {},
   "outputs": [],
   "source": [
    "def preprocess_image(filename, sigmaX = 10):\n",
    "    image_path = image_directory + '/' + filename\n",
    "    image_temp = cv2.imread(image_path)\n",
    "    image_temp = cv2.cvtColor(image_temp, cv2.COLOR_BGR2RGB)\n",
    "    #image_temp = cv2.resize(image_temp, (224,224))\n",
    "    image_temp = cv2.addWeighted(image_temp, 4, cv2.GaussianBlur(image_temp, (0,0), sigmaX), -4, 128)\n",
    "    image = Image.fromarray(image_temp, 'RGB')\n",
    "    #im_b64 = base64.b64encode(image).decode(\"utf-8\")\n",
    "    return image\n"
   ]
  },
  {
   "cell_type": "code",
   "execution_count": 32,
   "metadata": {},
   "outputs": [],
   "source": [
    "model = load_model('model_resnet50_final.h5')"
   ]
  },
  {
   "cell_type": "code",
   "execution_count": 34,
   "metadata": {},
   "outputs": [],
   "source": [
    "@app.callback(\n",
    "    [Output('image', 'src'),\n",
    "     Output('image_2', 'src'),\n",
    "     Output('predicted-class','children')],\n",
    "    [Input('image-dropdown', 'value')])\n",
    "def update_image_src(value):\n",
    "    image_path = image_directory + '/' + value\n",
    "    encoded_image = base64.b64encode(open(image_path, 'rb').read())\n",
    "    preprocessed_image = preprocess_image(value)\n",
    "    result = load(value)\n",
    "    #result_class = predict_class(np_image)\n",
    "    return ('data:image/png;base64,{}'.format(encoded_image.decode()),\n",
    "            preprocessed_image,result)\n",
    "\n",
    "\n"
   ]
  },
  {
   "cell_type": "code",
   "execution_count": 35,
   "metadata": {},
   "outputs": [
    {
     "name": "stdout",
     "output_type": "stream",
     "text": [
      " * Serving Flask app \"__main__\" (lazy loading)\n",
      " * Environment: production\n",
      "   WARNING: This is a development server. Do not use it in a production deployment.\n",
      "   Use a production WSGI server instead.\n",
      " * Debug mode: off\n"
     ]
    },
    {
     "name": "stderr",
     "output_type": "stream",
     "text": [
      " * Running on http://0.0.0.0:8080/ (Press CTRL+C to quit)\n",
      "127.0.0.1 - - [17/Aug/2020 18:56:54] \"\u001b[37mGET / HTTP/1.1\u001b[0m\" 200 -\n",
      "127.0.0.1 - - [17/Aug/2020 18:56:54] \"\u001b[37mGET /_dash-layout HTTP/1.1\u001b[0m\" 200 -\n",
      "127.0.0.1 - - [17/Aug/2020 18:56:54] \"\u001b[37mGET /_dash-dependencies HTTP/1.1\u001b[0m\" 200 -\n",
      "127.0.0.1 - - [17/Aug/2020 18:56:56] \"\u001b[37mPOST /_dash-update-component HTTP/1.1\u001b[0m\" 200 -\n",
      "127.0.0.1 - - [17/Aug/2020 18:57:02] \"\u001b[37mPOST /_dash-update-component HTTP/1.1\u001b[0m\" 200 -\n",
      "127.0.0.1 - - [17/Aug/2020 18:57:06] \"\u001b[37mPOST /_dash-update-component HTTP/1.1\u001b[0m\" 200 -\n",
      "127.0.0.1 - - [17/Aug/2020 18:57:13] \"\u001b[37mPOST /_dash-update-component HTTP/1.1\u001b[0m\" 200 -\n",
      "127.0.0.1 - - [17/Aug/2020 18:57:19] \"\u001b[37mPOST /_dash-update-component HTTP/1.1\u001b[0m\" 200 -\n"
     ]
    }
   ],
   "source": [
    "if __name__ == \"__main__\":\n",
    "     app.run_server(\n",
    "        port=8080,\n",
    "        host='0.0.0.0',\n",
    "    )"
   ]
  },
  {
   "cell_type": "code",
   "execution_count": null,
   "metadata": {},
   "outputs": [],
   "source": []
  }
 ],
 "metadata": {
  "kernelspec": {
   "display_name": "Python 3",
   "language": "python",
   "name": "python3"
  },
  "language_info": {
   "codemirror_mode": {
    "name": "ipython",
    "version": 3
   },
   "file_extension": ".py",
   "mimetype": "text/x-python",
   "name": "python",
   "nbconvert_exporter": "python",
   "pygments_lexer": "ipython3",
   "version": "3.7.6"
  }
 },
 "nbformat": 4,
 "nbformat_minor": 4
}
