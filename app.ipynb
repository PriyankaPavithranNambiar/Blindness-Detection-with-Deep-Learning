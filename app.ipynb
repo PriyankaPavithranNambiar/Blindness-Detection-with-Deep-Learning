{
 "cells": [
  {
   "cell_type": "code",
   "execution_count": 36,
   "metadata": {},
   "outputs": [],
   "source": [
    "import base64\n",
    "import os\n",
    "from urllib.parse import quote as urlquote\n",
    "from flask import Flask, send_from_directory\n",
    "import dash\n",
    "import dash_core_components as dcc\n",
    "import dash_html_components as html\n",
    "import pandas as pd\n",
    "from pathlib import Path\n",
    "from dash.dependencies import Input, Output, State\n",
    "from PIL import Image\n",
    "import numpy as np\n",
    "import glob\n",
    "from skimage import transform\n",
    "import keras.preprocessing.image as image\n",
    "from tensorflow.keras.models import load_model\n",
    "import cv2"
   ]
  },
  {
   "cell_type": "code",
   "execution_count": 37,
   "metadata": {},
   "outputs": [],
   "source": [
    "image_directory = 'aptos2019-blindness-detection/test_images'\n",
    "list_of_images = [ os.path.basename(x) for x in glob.glob(( os.path.join(image_directory, '*.png') ))]\n",
    "static_image_route = 'data:image/png;base64,'"
   ]
  },
  {
   "cell_type": "code",
   "execution_count": 38,
   "metadata": {},
   "outputs": [],
   "source": [
    "app = dash.Dash(\n",
    "    __name__, \n",
    "    #external_stylesheets=external_stylesheets,\n",
    "    meta_tags=[{\"name\": \"viewport\", \"content\": \"width=device-width, initial-scale=1\"}]\n",
    "    )\n",
    "colors = {\n",
    "    'background': '#111111',\n",
    "    'text': '#7FDBFF'\n",
    "}\n",
    "\n",
    "\n",
    "app.layout = html.Div(\n",
    "    [\n",
    "        \n",
    "    html.Div(\n",
    "        [\n",
    "        html.Div(\n",
    "            [\n",
    "                html.Div(\n",
    "                    [\n",
    "                        html.H1(\n",
    "                            \"Blindness Detection using Deep Learning\",\n",
    "                            className=\"uppercase title\",\n",
    "                        ),\n",
    "                        html.Span(\n",
    "                            \"Image classifier using dense neural nets\", style={'padding': '10px'}\n",
    "                        ),\n",
    "                        html.Br(),                        \n",
    "                        html.Span(\n",
    "                            \" The following are the five classes base on severity of blindness\", style={'padding': '10px'}\n",
    "                        ),\n",
    "                        html.Br(),                        \n",
    "                        html.Span(\n",
    "                            \" \", style={'padding': '10px'}\n",
    "                        ),  \n",
    "                        html.Br(),                     \n",
    "                        html.Span(\"1. No Diabetic retinopathy   \", style={'color': '#4ce80e'} ),\n",
    "                        html.Span(\"2. Mild   \",      style={'color': '#83db1f'} ),\n",
    "                        html.Span(\"3. Moderate   \",       style={'color': '#ebcd0e'} ),\n",
    "                        html.Span(\"4. Severe   \",      style={'color': '#db3a2c'} ),\n",
    "                        html.Span(\"5. Proliferative Diabetic retinopathy   \", style={'color': '#e01b1b'} ),\n",
    "                        html.Br(),  \n",
    "                    ], style = {'background':'#ffffff'}\n",
    "                ),\n",
    "            ],\n",
    "        className=\"app__header\",\n",
    "    ),\n",
    "        \n",
    "            html.Div( children = [\n",
    "                dcc.Dropdown(\n",
    "                    id='image-dropdown',\n",
    "                    options=[{'label': i, 'value': i} for i in list_of_images],\n",
    "                    value=  list_of_images[0]\n",
    "                ),\n",
    "            html.Div([dcc.Store(id='intermediate-value')], style={'display': 'none'}),\n",
    "            html.Div(\n",
    "                [   html.H3(\"Original Image\"),\n",
    "                    html.Img(id='image',style={'display': 'inline-block','height':'20%', 'width':'20%'})]\n",
    "                , className=\"six columns\"),\n",
    "            html.Div(\n",
    "                [   html.H3(\"Preprocessed Image\"),\n",
    "                    html.Img(id='image_2',style={'display': 'inline-block','height':'20%', 'width':'20%'})]\n",
    "                , className=\"six columns\"),\n",
    "            html.Div(\n",
    "                [ html.H3(\"Predicted Class\"),\n",
    "                      html.P(id=\"predicted-class\")]\n",
    "            )\n",
    "            ]    \n",
    "            , className=\"row\"),   \n",
    "        ], className=\"app__container\",\n",
    "    )\n",
    "    ],style = {'background':'#ffffff'}\n",
    ")"
   ]
  },
  {
   "cell_type": "code",
   "execution_count": 39,
   "metadata": {},
   "outputs": [],
   "source": [
    "\n",
    "def load(filename):\n",
    "    image_path = image_directory + '/' + filename\n",
    "    np_image = Image.open(image_path)\n",
    "    np_image = np.array(np_image).astype('float32')/255\n",
    "    np_image = transform.resize(np_image, (512, 512, 3))\n",
    "    np_image = image.img_to_array(np_image)\n",
    "    np_image = np.expand_dims(np_image, axis=0)\n",
    "    predict = model.predict(np_image)\n",
    "    result_class = [\"No Diabetic retinopathy\",\"Mild\",\"Moderate\",\"Severe\",\"Proliferative Diabetic retinopathy\"]\n",
    "    result1 = result_class[np.argmax(predict,axis=1)[0]]\n",
    "    return result1\n",
    "\n"
   ]
  },
  {
   "cell_type": "code",
   "execution_count": 40,
   "metadata": {},
   "outputs": [],
   "source": [
    "def preprocess_image(filename, sigmaX = 10):\n",
    "    image_path = image_directory + '/' + filename\n",
    "    image_temp = cv2.imread(image_path)\n",
    "    image_temp = cv2.cvtColor(image_temp, cv2.COLOR_BGR2RGB)\n",
    "    #image_temp = cv2.resize(image_temp, (224,224))\n",
    "    image_temp = cv2.addWeighted(image_temp, 4, cv2.GaussianBlur(image_temp, (0,0), sigmaX), -4, 128)\n",
    "    image = Image.fromarray(image_temp, 'RGB')\n",
    "    #im_b64 = base64.b64encode(image).decode(\"utf-8\")\n",
    "    return image\n"
   ]
  },
  {
   "cell_type": "code",
   "execution_count": 32,
   "metadata": {},
   "outputs": [],
   "source": [
    "model = load_model('model_resnet50_final.h5')"
   ]
  },
  {
   "cell_type": "code",
   "execution_count": 41,
   "metadata": {},
   "outputs": [],
   "source": [
    "@app.callback(\n",
    "    [Output('image', 'src'),\n",
    "     Output('image_2', 'src'),\n",
    "     Output('predicted-class','children')],\n",
    "    [Input('image-dropdown', 'value')])\n",
    "def update_image_src(value):\n",
    "    image_path = image_directory + '/' + value\n",
    "    encoded_image = base64.b64encode(open(image_path, 'rb').read())\n",
    "    preprocessed_image = preprocess_image(value)\n",
    "    result = load(value)\n",
    "    #result_class = predict_class(np_image)\n",
    "    return ('data:image/png;base64,{}'.format(encoded_image.decode()),\n",
    "            preprocessed_image,result)\n",
    "\n",
    "\n"
   ]
  },
  {
   "cell_type": "code",
   "execution_count": 35,
   "metadata": {},
   "outputs": [
    {
     "name": "stdout",
     "output_type": "stream",
     "text": [
      " * Serving Flask app \"__main__\" (lazy loading)\n",
      " * Environment: production\n",
      "   WARNING: This is a development server. Do not use it in a production deployment.\n",
      "   Use a production WSGI server instead.\n",
      " * Debug mode: off\n"
     ]
    },
    {
     "name": "stderr",
     "output_type": "stream",
     "text": [
      " * Running on http://0.0.0.0:8080/ (Press CTRL+C to quit)\n",
      "127.0.0.1 - - [17/Aug/2020 18:56:54] \"\u001b[37mGET / HTTP/1.1\u001b[0m\" 200 -\n",
      "127.0.0.1 - - [17/Aug/2020 18:56:54] \"\u001b[37mGET /_dash-layout HTTP/1.1\u001b[0m\" 200 -\n",
      "127.0.0.1 - - [17/Aug/2020 18:56:54] \"\u001b[37mGET /_dash-dependencies HTTP/1.1\u001b[0m\" 200 -\n",
      "127.0.0.1 - - [17/Aug/2020 18:56:56] \"\u001b[37mPOST /_dash-update-component HTTP/1.1\u001b[0m\" 200 -\n",
      "127.0.0.1 - - [17/Aug/2020 18:57:02] \"\u001b[37mPOST /_dash-update-component HTTP/1.1\u001b[0m\" 200 -\n",
      "127.0.0.1 - - [17/Aug/2020 18:57:06] \"\u001b[37mPOST /_dash-update-component HTTP/1.1\u001b[0m\" 200 -\n",
      "127.0.0.1 - - [17/Aug/2020 18:57:13] \"\u001b[37mPOST /_dash-update-component HTTP/1.1\u001b[0m\" 200 -\n",
      "127.0.0.1 - - [17/Aug/2020 18:57:19] \"\u001b[37mPOST /_dash-update-component HTTP/1.1\u001b[0m\" 200 -\n"
     ]
    }
   ],
   "source": [
    "if __name__ == \"__main__\":\n",
    "     app.run_server(\n",
    "        port=8080,\n",
    "        host='0.0.0.0',\n",
    "    )"
   ]
  },
  {
   "cell_type": "code",
   "execution_count": null,
   "metadata": {},
   "outputs": [],
   "source": []
  }
 ],
 "metadata": {
  "kernelspec": {
   "display_name": "Python 3",
   "language": "python",
   "name": "python3"
  },
  "language_info": {
   "codemirror_mode": {
    "name": "ipython",
    "version": 3
   },
   "file_extension": ".py",
   "mimetype": "text/x-python",
   "name": "python",
   "nbconvert_exporter": "python",
   "pygments_lexer": "ipython3",
   "version": "3.7.6"
  }
 },
 "nbformat": 4,
 "nbformat_minor": 4
}
